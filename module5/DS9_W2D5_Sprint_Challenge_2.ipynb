{
  "nbformat": 4,
  "nbformat_minor": 0,
  "metadata": {
    "colab": {
      "name": "DS9_W2D5_Sprint_Challenge_2.ipynb",
      "provenance": [],
      "collapsed_sections": [
        "k3eTXxXjxNKk",
        "idBiU1HsuIFp",
        "JLuv2NeauOXN"
      ],
      "include_colab_link": true
    },
    "kernelspec": {
      "name": "python3",
      "display_name": "Python 3"
    }
  },
  "cells": [
    {
      "cell_type": "markdown",
      "metadata": {
        "id": "view-in-github",
        "colab_type": "text"
      },
      "source": [
        "<a href=\"https://colab.research.google.com/github/JoshuaPMallory/DS-Unit-1-Sprint-2-Statistics/blob/master/module5/DS9_W2D5_Sprint_Challenge_2.ipynb\" target=\"_parent\"><img src=\"https://colab.research.google.com/assets/colab-badge.svg\" alt=\"Open In Colab\"/></a>"
      ]
    },
    {
      "cell_type": "markdown",
      "metadata": {
        "id": "NooAiTdnafkz",
        "colab_type": "text"
      },
      "source": [
        "# Data Science Unit 1 Sprint Challenge 2\n",
        "\n",
        "## Exploring Data, Testing Hypotheses\n",
        "\n",
        "In this sprint challenge you will look at a dataset of people being approved or rejected for credit.\n",
        "\n",
        "https://archive.ics.uci.edu/ml/datasets/Credit+Approval\n",
        "\n",
        "Data Set Information: This file concerns credit card applications. All attribute names and values have been changed to meaningless symbols to protect confidentiality of the data. This dataset is interesting because there is a good mix of attributes -- continuous, nominal with small numbers of values, and nominal with larger numbers of values. There are also a few missing values.\n",
        "\n",
        "Attribute Information:\n",
        "- A1: b, a.\n",
        "- A2: continuous.\n",
        "- A3: continuous.\n",
        "- A4: u, y, l, t.\n",
        "- A5: g, p, gg.\n",
        "- A6: c, d, cc, i, j, k, m, r, q, w, x, e, aa, ff.\n",
        "- A7: v, h, bb, j, n, z, dd, ff, o.\n",
        "- A8: continuous.\n",
        "- A9: t, f.\n",
        "- A10: t, f.\n",
        "- A11: continuous.\n",
        "- A12: t, f.\n",
        "- A13: g, p, s.\n",
        "- A14: continuous.\n",
        "- A15: continuous.\n",
        "- A16: +,- (class attribute)\n",
        "\n",
        "Yes, most of that doesn't mean anything. A16 is a variable that indicates whether or not a person's request for credit has been approved or denied. This is a good candidate for a y variable since we might want to use the other features to predict this one. The remaining variables have been obfuscated for privacy - a challenge you may have to deal with in your data science career.\n",
        "\n",
        "Sprint challenges are evaluated based on satisfactory completion of each part. It is suggested you work through it in order, getting each aspect reasonably working, before trying to deeply explore, iterate, or refine any given step. Once you get to the end, if you want to go back and improve things, go for it!"
      ]
    },
    {
      "cell_type": "markdown",
      "metadata": {
        "id": "5wch6ksCbJtZ",
        "colab_type": "text"
      },
      "source": [
        "## Part 1 - Load and validate the data\n",
        "\n",
        "- Load the data as a `pandas` data frame.\n",
        "- Validate that it has the appropriate number of observations (you can check the raw file, and also read the dataset description from UCI).\n",
        "- UCI says there should be missing data - check, and if necessary change the data so pandas recognizes it as na\n",
        "- Make sure that the loaded features are of the types described above (continuous values should be treated as float), and correct as necessary\n",
        "\n",
        "This is review, but skills that you'll use at the start of any data exploration. Further, you may have to do some investigation to figure out which file to load from - that is part of the puzzle.\n",
        "\n",
        "Hint: If a column has the datatype of \"object\" even though it's made up of float or integer values, you can coerce it to act as a numeric column by using the `pd.to_numeric()` function."
      ]
    },
    {
      "cell_type": "code",
      "metadata": {
        "id": "Q79xDLckzibS",
        "colab_type": "code",
        "colab": {
          "base_uri": "https://localhost:8080/",
          "height": 225
        },
        "outputId": "d82be0a7-b2e0-4449-dfc2-90adc30cb365"
      },
      "source": [
        "import pandas as pd\n",
        "import numpy as np\n",
        "\n",
        "names=['A1'\n",
        "      ,'A2'\n",
        "      ,'A3'\n",
        "      ,'A4'\n",
        "      ,'A5'\n",
        "      ,'A6'\n",
        "      ,'A7'\n",
        "      ,'A8'\n",
        "      ,'A9'\n",
        "      ,'A10'\n",
        "      ,'A11'\n",
        "      ,'A12'\n",
        "      ,'A13'\n",
        "      ,'A14'\n",
        "      ,'A15'\n",
        "      ,'A16'\n",
        "      ]\n",
        "\n",
        "df        = pd.read_csv('https://archive.ics.uci.edu/ml/machine-learning-databases/credit-screening/crx.data'\n",
        "                        ,header=None\n",
        "                        ,names=names)\n",
        "df        = df.replace({'?': np.NaN})\n",
        "df['A16'] = df['A16'].replace({'+': True, '-': False})\n",
        "df['A2']  = pd.to_numeric(df['A2'])\n",
        "df['A14'] = pd.to_numeric(df['A14'])\n",
        "df['A9']  = df['A9'].replace({'t': True, 'f': False})\n",
        "df['A10'] = df['A10'].replace({'t': True, 'f': False})\n",
        "df['A12'] = df['A12'].replace({'t': True, 'f': False})\n",
        "\n",
        "print(df.shape)\n",
        "df.head()\n",
        "# It looks like they just miscalculated the columns because even their files say\n",
        "# they should have 16 columns, not 15."
      ],
      "execution_count": 227,
      "outputs": [
        {
          "output_type": "stream",
          "text": [
            "(690, 16)\n"
          ],
          "name": "stdout"
        },
        {
          "output_type": "execute_result",
          "data": {
            "text/html": [
              "<div>\n",
              "<style scoped>\n",
              "    .dataframe tbody tr th:only-of-type {\n",
              "        vertical-align: middle;\n",
              "    }\n",
              "\n",
              "    .dataframe tbody tr th {\n",
              "        vertical-align: top;\n",
              "    }\n",
              "\n",
              "    .dataframe thead th {\n",
              "        text-align: right;\n",
              "    }\n",
              "</style>\n",
              "<table border=\"1\" class=\"dataframe\">\n",
              "  <thead>\n",
              "    <tr style=\"text-align: right;\">\n",
              "      <th></th>\n",
              "      <th>A1</th>\n",
              "      <th>A2</th>\n",
              "      <th>A3</th>\n",
              "      <th>A4</th>\n",
              "      <th>A5</th>\n",
              "      <th>A6</th>\n",
              "      <th>A7</th>\n",
              "      <th>A8</th>\n",
              "      <th>A9</th>\n",
              "      <th>A10</th>\n",
              "      <th>A11</th>\n",
              "      <th>A12</th>\n",
              "      <th>A13</th>\n",
              "      <th>A14</th>\n",
              "      <th>A15</th>\n",
              "      <th>A16</th>\n",
              "    </tr>\n",
              "  </thead>\n",
              "  <tbody>\n",
              "    <tr>\n",
              "      <th>0</th>\n",
              "      <td>b</td>\n",
              "      <td>30.83</td>\n",
              "      <td>0.000</td>\n",
              "      <td>u</td>\n",
              "      <td>g</td>\n",
              "      <td>w</td>\n",
              "      <td>v</td>\n",
              "      <td>1.25</td>\n",
              "      <td>True</td>\n",
              "      <td>True</td>\n",
              "      <td>1</td>\n",
              "      <td>False</td>\n",
              "      <td>g</td>\n",
              "      <td>202.0</td>\n",
              "      <td>0</td>\n",
              "      <td>True</td>\n",
              "    </tr>\n",
              "    <tr>\n",
              "      <th>1</th>\n",
              "      <td>a</td>\n",
              "      <td>58.67</td>\n",
              "      <td>4.460</td>\n",
              "      <td>u</td>\n",
              "      <td>g</td>\n",
              "      <td>q</td>\n",
              "      <td>h</td>\n",
              "      <td>3.04</td>\n",
              "      <td>True</td>\n",
              "      <td>True</td>\n",
              "      <td>6</td>\n",
              "      <td>False</td>\n",
              "      <td>g</td>\n",
              "      <td>43.0</td>\n",
              "      <td>560</td>\n",
              "      <td>True</td>\n",
              "    </tr>\n",
              "    <tr>\n",
              "      <th>2</th>\n",
              "      <td>a</td>\n",
              "      <td>24.50</td>\n",
              "      <td>0.500</td>\n",
              "      <td>u</td>\n",
              "      <td>g</td>\n",
              "      <td>q</td>\n",
              "      <td>h</td>\n",
              "      <td>1.50</td>\n",
              "      <td>True</td>\n",
              "      <td>False</td>\n",
              "      <td>0</td>\n",
              "      <td>False</td>\n",
              "      <td>g</td>\n",
              "      <td>280.0</td>\n",
              "      <td>824</td>\n",
              "      <td>True</td>\n",
              "    </tr>\n",
              "    <tr>\n",
              "      <th>3</th>\n",
              "      <td>b</td>\n",
              "      <td>27.83</td>\n",
              "      <td>1.540</td>\n",
              "      <td>u</td>\n",
              "      <td>g</td>\n",
              "      <td>w</td>\n",
              "      <td>v</td>\n",
              "      <td>3.75</td>\n",
              "      <td>True</td>\n",
              "      <td>True</td>\n",
              "      <td>5</td>\n",
              "      <td>True</td>\n",
              "      <td>g</td>\n",
              "      <td>100.0</td>\n",
              "      <td>3</td>\n",
              "      <td>True</td>\n",
              "    </tr>\n",
              "    <tr>\n",
              "      <th>4</th>\n",
              "      <td>b</td>\n",
              "      <td>20.17</td>\n",
              "      <td>5.625</td>\n",
              "      <td>u</td>\n",
              "      <td>g</td>\n",
              "      <td>w</td>\n",
              "      <td>v</td>\n",
              "      <td>1.71</td>\n",
              "      <td>True</td>\n",
              "      <td>False</td>\n",
              "      <td>0</td>\n",
              "      <td>False</td>\n",
              "      <td>s</td>\n",
              "      <td>120.0</td>\n",
              "      <td>0</td>\n",
              "      <td>True</td>\n",
              "    </tr>\n",
              "  </tbody>\n",
              "</table>\n",
              "</div>"
            ],
            "text/plain": [
              "  A1     A2     A3 A4 A5 A6 A7  ...    A10  A11    A12  A13    A14  A15   A16\n",
              "0  b  30.83  0.000  u  g  w  v  ...   True    1  False    g  202.0    0  True\n",
              "1  a  58.67  4.460  u  g  q  h  ...   True    6  False    g   43.0  560  True\n",
              "2  a  24.50  0.500  u  g  q  h  ...  False    0  False    g  280.0  824  True\n",
              "3  b  27.83  1.540  u  g  w  v  ...   True    5   True    g  100.0    3  True\n",
              "4  b  20.17  5.625  u  g  w  v  ...  False    0  False    s  120.0    0  True\n",
              "\n",
              "[5 rows x 16 columns]"
            ]
          },
          "metadata": {
            "tags": []
          },
          "execution_count": 227
        }
      ]
    },
    {
      "cell_type": "code",
      "metadata": {
        "id": "2nha6c6TZP2C",
        "colab_type": "code",
        "colab": {
          "base_uri": "https://localhost:8080/",
          "height": 329
        },
        "outputId": "25eb669c-6c02-4bd7-f971-f3cda188bb53"
      },
      "source": [
        "df.dtypes\n",
        "# Correct types"
      ],
      "execution_count": 228,
      "outputs": [
        {
          "output_type": "execute_result",
          "data": {
            "text/plain": [
              "A1      object\n",
              "A2     float64\n",
              "A3     float64\n",
              "A4      object\n",
              "A5      object\n",
              "A6      object\n",
              "A7      object\n",
              "A8     float64\n",
              "A9        bool\n",
              "A10       bool\n",
              "A11      int64\n",
              "A12       bool\n",
              "A13     object\n",
              "A14    float64\n",
              "A15      int64\n",
              "A16       bool\n",
              "dtype: object"
            ]
          },
          "metadata": {
            "tags": []
          },
          "execution_count": 228
        }
      ]
    },
    {
      "cell_type": "code",
      "metadata": {
        "id": "k8kFYmfPXq_W",
        "colab_type": "code",
        "colab": {
          "base_uri": "https://localhost:8080/",
          "height": 329
        },
        "outputId": "45f86fcc-862f-479c-f8a1-033cb9c5ad36"
      },
      "source": [
        "df.isnull().sum()\n",
        "# Correct number of nulls"
      ],
      "execution_count": 229,
      "outputs": [
        {
          "output_type": "execute_result",
          "data": {
            "text/plain": [
              "A1     12\n",
              "A2     12\n",
              "A3      0\n",
              "A4      6\n",
              "A5      6\n",
              "A6      9\n",
              "A7      9\n",
              "A8      0\n",
              "A9      0\n",
              "A10     0\n",
              "A11     0\n",
              "A12     0\n",
              "A13     0\n",
              "A14    13\n",
              "A15     0\n",
              "A16     0\n",
              "dtype: int64"
            ]
          },
          "metadata": {
            "tags": []
          },
          "execution_count": 229
        }
      ]
    },
    {
      "cell_type": "markdown",
      "metadata": {
        "id": "G7rLytbrO38L",
        "colab_type": "text"
      },
      "source": [
        "## Part 2 - Exploring data, Testing hypotheses\n",
        "\n",
        "The only thing we really know about this data is that A16 is the class label. Besides that, we have 6 continuous (float) features and 9 categorical features.\n",
        "\n",
        "Explore the data: you can use whatever approach (tables, utility functions, visualizations) to get an impression of the distributions and relationships of the variables. In general, your goal is to understand how the features are different when grouped by the two class labels (`+` and `-`).\n",
        "\n",
        "For the 6 continuous features, how are they different when split between the two class labels? Choose two features to run t-tests (again split by class label) - specifically, select one feature that is *extremely* different between the classes, and another feature that is notably less different (though perhaps still \"statistically significantly\" different). You may have to explore more than two features to do this.\n",
        "\n",
        "For the categorical features, explore by creating \"cross tabs\" (aka [contingency tables](https://en.wikipedia.org/wiki/Contingency_table)) between them and the class label, and apply the Chi-squared test to them. [pandas.crosstab](http://pandas.pydata.org/pandas-docs/stable/reference/api/pandas.crosstab.html) can create contingency tables, and [scipy.stats.chi2_contingency](https://docs.scipy.org/doc/scipy/reference/generated/scipy.stats.chi2_contingency.html) can calculate the Chi-squared statistic for them.\n",
        "\n",
        "There are 9 categorical features - as with the t-test, try to find one where the Chi-squared test returns an extreme result (rejecting the null that the data are independent), and one where it is less extreme.\n",
        "\n",
        "**NOTE** - \"less extreme\" just means smaller test statistic/larger p-value. Even the least extreme differences may be strongly statistically significant.\n",
        "\n",
        "Your *main* goal is the hypothesis tests, so don't spend too much time on the exploration/visualization piece. That is just a means to an end - use simple visualizations, such as boxplots or a scatter matrix (both built in to pandas), to get a feel for the overall distribution of the variables.\n",
        "\n",
        "This is challenging, so manage your time and aim for a baseline of at least running two t-tests and two Chi-squared tests before polishing. And don't forget to answer the questions in part 3, even if your results in this part aren't what you want them to be."
      ]
    },
    {
      "cell_type": "markdown",
      "metadata": {
        "id": "k3eTXxXjxNKk",
        "colab_type": "text"
      },
      "source": [
        "### Setup"
      ]
    },
    {
      "cell_type": "code",
      "metadata": {
        "id": "_nqcgc0yzm68",
        "colab_type": "code",
        "colab": {
          "base_uri": "https://localhost:8080/",
          "height": 206
        },
        "outputId": "ce3c0092-3f49-4f06-95d0-d0b012651a87"
      },
      "source": [
        "# In general, your goal is to understand how the features are different when grouped by the two class labels (`+` and `-`).\n",
        "\n",
        "# For the 6 continuous features, how are they different when split between the two class labels?\n",
        "# Choose two features to run t-tests split by class label\n",
        "# Select one feature that is *extremely* different between the classes\n",
        "# Select one feature that is notably less different (but still \"statistically significantly\" different).\n",
        "# You may have to explore more than two features to do this.\n",
        "\n",
        "pos = df[df['A16'] == True]\n",
        "neg = df[df['A16'] == False]\n",
        "\n",
        "pos.head()"
      ],
      "execution_count": 230,
      "outputs": [
        {
          "output_type": "execute_result",
          "data": {
            "text/html": [
              "<div>\n",
              "<style scoped>\n",
              "    .dataframe tbody tr th:only-of-type {\n",
              "        vertical-align: middle;\n",
              "    }\n",
              "\n",
              "    .dataframe tbody tr th {\n",
              "        vertical-align: top;\n",
              "    }\n",
              "\n",
              "    .dataframe thead th {\n",
              "        text-align: right;\n",
              "    }\n",
              "</style>\n",
              "<table border=\"1\" class=\"dataframe\">\n",
              "  <thead>\n",
              "    <tr style=\"text-align: right;\">\n",
              "      <th></th>\n",
              "      <th>A1</th>\n",
              "      <th>A2</th>\n",
              "      <th>A3</th>\n",
              "      <th>A4</th>\n",
              "      <th>A5</th>\n",
              "      <th>A6</th>\n",
              "      <th>A7</th>\n",
              "      <th>A8</th>\n",
              "      <th>A9</th>\n",
              "      <th>A10</th>\n",
              "      <th>A11</th>\n",
              "      <th>A12</th>\n",
              "      <th>A13</th>\n",
              "      <th>A14</th>\n",
              "      <th>A15</th>\n",
              "      <th>A16</th>\n",
              "    </tr>\n",
              "  </thead>\n",
              "  <tbody>\n",
              "    <tr>\n",
              "      <th>0</th>\n",
              "      <td>b</td>\n",
              "      <td>30.83</td>\n",
              "      <td>0.000</td>\n",
              "      <td>u</td>\n",
              "      <td>g</td>\n",
              "      <td>w</td>\n",
              "      <td>v</td>\n",
              "      <td>1.25</td>\n",
              "      <td>True</td>\n",
              "      <td>True</td>\n",
              "      <td>1</td>\n",
              "      <td>False</td>\n",
              "      <td>g</td>\n",
              "      <td>202.0</td>\n",
              "      <td>0</td>\n",
              "      <td>True</td>\n",
              "    </tr>\n",
              "    <tr>\n",
              "      <th>1</th>\n",
              "      <td>a</td>\n",
              "      <td>58.67</td>\n",
              "      <td>4.460</td>\n",
              "      <td>u</td>\n",
              "      <td>g</td>\n",
              "      <td>q</td>\n",
              "      <td>h</td>\n",
              "      <td>3.04</td>\n",
              "      <td>True</td>\n",
              "      <td>True</td>\n",
              "      <td>6</td>\n",
              "      <td>False</td>\n",
              "      <td>g</td>\n",
              "      <td>43.0</td>\n",
              "      <td>560</td>\n",
              "      <td>True</td>\n",
              "    </tr>\n",
              "    <tr>\n",
              "      <th>2</th>\n",
              "      <td>a</td>\n",
              "      <td>24.50</td>\n",
              "      <td>0.500</td>\n",
              "      <td>u</td>\n",
              "      <td>g</td>\n",
              "      <td>q</td>\n",
              "      <td>h</td>\n",
              "      <td>1.50</td>\n",
              "      <td>True</td>\n",
              "      <td>False</td>\n",
              "      <td>0</td>\n",
              "      <td>False</td>\n",
              "      <td>g</td>\n",
              "      <td>280.0</td>\n",
              "      <td>824</td>\n",
              "      <td>True</td>\n",
              "    </tr>\n",
              "    <tr>\n",
              "      <th>3</th>\n",
              "      <td>b</td>\n",
              "      <td>27.83</td>\n",
              "      <td>1.540</td>\n",
              "      <td>u</td>\n",
              "      <td>g</td>\n",
              "      <td>w</td>\n",
              "      <td>v</td>\n",
              "      <td>3.75</td>\n",
              "      <td>True</td>\n",
              "      <td>True</td>\n",
              "      <td>5</td>\n",
              "      <td>True</td>\n",
              "      <td>g</td>\n",
              "      <td>100.0</td>\n",
              "      <td>3</td>\n",
              "      <td>True</td>\n",
              "    </tr>\n",
              "    <tr>\n",
              "      <th>4</th>\n",
              "      <td>b</td>\n",
              "      <td>20.17</td>\n",
              "      <td>5.625</td>\n",
              "      <td>u</td>\n",
              "      <td>g</td>\n",
              "      <td>w</td>\n",
              "      <td>v</td>\n",
              "      <td>1.71</td>\n",
              "      <td>True</td>\n",
              "      <td>False</td>\n",
              "      <td>0</td>\n",
              "      <td>False</td>\n",
              "      <td>s</td>\n",
              "      <td>120.0</td>\n",
              "      <td>0</td>\n",
              "      <td>True</td>\n",
              "    </tr>\n",
              "  </tbody>\n",
              "</table>\n",
              "</div>"
            ],
            "text/plain": [
              "  A1     A2     A3 A4 A5 A6 A7  ...    A10  A11    A12  A13    A14  A15   A16\n",
              "0  b  30.83  0.000  u  g  w  v  ...   True    1  False    g  202.0    0  True\n",
              "1  a  58.67  4.460  u  g  q  h  ...   True    6  False    g   43.0  560  True\n",
              "2  a  24.50  0.500  u  g  q  h  ...  False    0  False    g  280.0  824  True\n",
              "3  b  27.83  1.540  u  g  w  v  ...   True    5   True    g  100.0    3  True\n",
              "4  b  20.17  5.625  u  g  w  v  ...  False    0  False    s  120.0    0  True\n",
              "\n",
              "[5 rows x 16 columns]"
            ]
          },
          "metadata": {
            "tags": []
          },
          "execution_count": 230
        }
      ]
    },
    {
      "cell_type": "code",
      "metadata": {
        "id": "ppMnlIg_duZD",
        "colab_type": "code",
        "colab": {
          "base_uri": "https://localhost:8080/",
          "height": 206
        },
        "outputId": "25739c96-db65-4f3a-c8a6-11db9b96f039"
      },
      "source": [
        "neg.head()"
      ],
      "execution_count": 231,
      "outputs": [
        {
          "output_type": "execute_result",
          "data": {
            "text/html": [
              "<div>\n",
              "<style scoped>\n",
              "    .dataframe tbody tr th:only-of-type {\n",
              "        vertical-align: middle;\n",
              "    }\n",
              "\n",
              "    .dataframe tbody tr th {\n",
              "        vertical-align: top;\n",
              "    }\n",
              "\n",
              "    .dataframe thead th {\n",
              "        text-align: right;\n",
              "    }\n",
              "</style>\n",
              "<table border=\"1\" class=\"dataframe\">\n",
              "  <thead>\n",
              "    <tr style=\"text-align: right;\">\n",
              "      <th></th>\n",
              "      <th>A1</th>\n",
              "      <th>A2</th>\n",
              "      <th>A3</th>\n",
              "      <th>A4</th>\n",
              "      <th>A5</th>\n",
              "      <th>A6</th>\n",
              "      <th>A7</th>\n",
              "      <th>A8</th>\n",
              "      <th>A9</th>\n",
              "      <th>A10</th>\n",
              "      <th>A11</th>\n",
              "      <th>A12</th>\n",
              "      <th>A13</th>\n",
              "      <th>A14</th>\n",
              "      <th>A15</th>\n",
              "      <th>A16</th>\n",
              "    </tr>\n",
              "  </thead>\n",
              "  <tbody>\n",
              "    <tr>\n",
              "      <th>70</th>\n",
              "      <td>b</td>\n",
              "      <td>32.33</td>\n",
              "      <td>7.5</td>\n",
              "      <td>u</td>\n",
              "      <td>g</td>\n",
              "      <td>e</td>\n",
              "      <td>bb</td>\n",
              "      <td>1.585</td>\n",
              "      <td>True</td>\n",
              "      <td>False</td>\n",
              "      <td>0</td>\n",
              "      <td>True</td>\n",
              "      <td>s</td>\n",
              "      <td>420.0</td>\n",
              "      <td>0</td>\n",
              "      <td>False</td>\n",
              "    </tr>\n",
              "    <tr>\n",
              "      <th>71</th>\n",
              "      <td>b</td>\n",
              "      <td>34.83</td>\n",
              "      <td>4.0</td>\n",
              "      <td>u</td>\n",
              "      <td>g</td>\n",
              "      <td>d</td>\n",
              "      <td>bb</td>\n",
              "      <td>12.500</td>\n",
              "      <td>True</td>\n",
              "      <td>False</td>\n",
              "      <td>0</td>\n",
              "      <td>True</td>\n",
              "      <td>g</td>\n",
              "      <td>NaN</td>\n",
              "      <td>0</td>\n",
              "      <td>False</td>\n",
              "    </tr>\n",
              "    <tr>\n",
              "      <th>72</th>\n",
              "      <td>a</td>\n",
              "      <td>38.58</td>\n",
              "      <td>5.0</td>\n",
              "      <td>u</td>\n",
              "      <td>g</td>\n",
              "      <td>cc</td>\n",
              "      <td>v</td>\n",
              "      <td>13.500</td>\n",
              "      <td>True</td>\n",
              "      <td>False</td>\n",
              "      <td>0</td>\n",
              "      <td>True</td>\n",
              "      <td>g</td>\n",
              "      <td>980.0</td>\n",
              "      <td>0</td>\n",
              "      <td>False</td>\n",
              "    </tr>\n",
              "    <tr>\n",
              "      <th>73</th>\n",
              "      <td>b</td>\n",
              "      <td>44.25</td>\n",
              "      <td>0.5</td>\n",
              "      <td>u</td>\n",
              "      <td>g</td>\n",
              "      <td>m</td>\n",
              "      <td>v</td>\n",
              "      <td>10.750</td>\n",
              "      <td>True</td>\n",
              "      <td>False</td>\n",
              "      <td>0</td>\n",
              "      <td>False</td>\n",
              "      <td>s</td>\n",
              "      <td>400.0</td>\n",
              "      <td>0</td>\n",
              "      <td>False</td>\n",
              "    </tr>\n",
              "    <tr>\n",
              "      <th>74</th>\n",
              "      <td>b</td>\n",
              "      <td>44.83</td>\n",
              "      <td>7.0</td>\n",
              "      <td>y</td>\n",
              "      <td>p</td>\n",
              "      <td>c</td>\n",
              "      <td>v</td>\n",
              "      <td>1.625</td>\n",
              "      <td>False</td>\n",
              "      <td>False</td>\n",
              "      <td>0</td>\n",
              "      <td>False</td>\n",
              "      <td>g</td>\n",
              "      <td>160.0</td>\n",
              "      <td>2</td>\n",
              "      <td>False</td>\n",
              "    </tr>\n",
              "  </tbody>\n",
              "</table>\n",
              "</div>"
            ],
            "text/plain": [
              "   A1     A2   A3 A4 A5  A6  A7  ...    A10  A11    A12  A13    A14 A15    A16\n",
              "70  b  32.33  7.5  u  g   e  bb  ...  False    0   True    s  420.0   0  False\n",
              "71  b  34.83  4.0  u  g   d  bb  ...  False    0   True    g    NaN   0  False\n",
              "72  a  38.58  5.0  u  g  cc   v  ...  False    0   True    g  980.0   0  False\n",
              "73  b  44.25  0.5  u  g   m   v  ...  False    0  False    s  400.0   0  False\n",
              "74  b  44.83  7.0  y  p   c   v  ...  False    0  False    g  160.0   2  False\n",
              "\n",
              "[5 rows x 16 columns]"
            ]
          },
          "metadata": {
            "tags": []
          },
          "execution_count": 231
        }
      ]
    },
    {
      "cell_type": "code",
      "metadata": {
        "id": "OkLYe1e9ftd7",
        "colab_type": "code",
        "colab": {
          "base_uri": "https://localhost:8080/",
          "height": 219
        },
        "outputId": "1eda9dac-a8b8-4d95-8abe-5f7ee798dea6"
      },
      "source": [
        "neg.dropna().mean() > pos.dropna().mean()\n",
        "# I'd expect certain numbers to be worse for the negative side.\n",
        "# Maybe any Trues tell me something?"
      ],
      "execution_count": 232,
      "outputs": [
        {
          "output_type": "execute_result",
          "data": {
            "text/plain": [
              "A2     False\n",
              "A3     False\n",
              "A8     False\n",
              "A9     False\n",
              "A10    False\n",
              "A11    False\n",
              "A12    False\n",
              "A14     True\n",
              "A15    False\n",
              "A16    False\n",
              "dtype: bool"
            ]
          },
          "metadata": {
            "tags": []
          },
          "execution_count": 232
        }
      ]
    },
    {
      "cell_type": "markdown",
      "metadata": {
        "id": "idBiU1HsuIFp",
        "colab_type": "text"
      },
      "source": [
        "### For the 6 continuous features, how are they different when split between the two class labels?"
      ]
    },
    {
      "cell_type": "code",
      "metadata": {
        "id": "TCUXGIoeliA2",
        "colab_type": "code",
        "colab": {
          "base_uri": "https://localhost:8080/",
          "height": 458
        },
        "outputId": "f2f40857-928a-4ff6-ea38-5bd4f2060ccd"
      },
      "source": [
        "# Continuous\n",
        "# A2\n",
        "# A3\n",
        "# A8\n",
        "# A11\n",
        "# A14\n",
        "# A15\n",
        "\n",
        "\n",
        "column = 'A14'\n",
        "\n",
        "print('Positive Credit'                                                   ,'\\n'\n",
        "     ,'Mean: '               ,pos[column].dropna().mean()                 ,'\\n'\n",
        "     ,'Median:'              ,pos[column].dropna().median()               ,'\\n'\n",
        "     ,'Sum: '                ,pos[column].dropna().sum()                  ,'\\n'\n",
        "     ,'Value Counts:'\n",
        "     ,'\\n'                   ,pos[column].dropna().value_counts().head()  ,'\\n'\n",
        "     )\n",
        "\n",
        "print('Negative Credit'                                                   ,'\\n'\n",
        "     ,'Mean: '               ,neg[column].dropna().mean()                 ,'\\n'\n",
        "     ,'Median:'              ,neg[column].dropna().median()               ,'\\n'\n",
        "     ,'Sum: '                ,neg[column].dropna().sum()                  ,'\\n'\n",
        "     ,'Value Counts:'\n",
        "     ,'\\n'                   ,neg[column].dropna().value_counts().head()  ,'\\n'\n",
        "     )\n",
        "\n",
        "# My guess for 14 is that it's somehow related to outstanding debt?\n",
        "# I don't think this is helping"
      ],
      "execution_count": 233,
      "outputs": [
        {
          "output_type": "stream",
          "text": [
            "Positive Credit \n",
            " Mean:  164.421926910299 \n",
            " Median: 120.0 \n",
            " Sum:  49491.0 \n",
            " Value Counts: \n",
            " 0.0      81\n",
            "80.0     16\n",
            "100.0    14\n",
            "120.0    12\n",
            "160.0     8\n",
            "Name: A14, dtype: int64 \n",
            "\n",
            "Negative Credit \n",
            " Mean:  199.6994680851064 \n",
            " Median: 167.5 \n",
            " Sum:  75087.0 \n",
            " Value Counts: \n",
            " 0.0      51\n",
            "200.0    27\n",
            "160.0    26\n",
            "120.0    23\n",
            "280.0    17\n",
            "Name: A14, dtype: int64 \n",
            "\n"
          ],
          "name": "stdout"
        }
      ]
    },
    {
      "cell_type": "markdown",
      "metadata": {
        "id": "JLuv2NeauOXN",
        "colab_type": "text"
      },
      "source": [
        "## Choose two features to run t-tests split by class label"
      ]
    },
    {
      "cell_type": "code",
      "metadata": {
        "id": "7RNHduY4l7Kd",
        "colab_type": "code",
        "colab": {}
      },
      "source": [
        "from scipy.stats import ttest_ind"
      ],
      "execution_count": 0,
      "outputs": []
    },
    {
      "cell_type": "markdown",
      "metadata": {
        "id": "KKteDO7huSlj",
        "colab_type": "text"
      },
      "source": [
        "### Select one feature that is *extremely* different between the classes"
      ]
    },
    {
      "cell_type": "code",
      "metadata": {
        "id": "MnScuXAsmKKA",
        "colab_type": "code",
        "colab": {
          "base_uri": "https://localhost:8080/",
          "height": 35
        },
        "outputId": "08ec31da-2447-44b2-bfb1-58920ba72bb6"
      },
      "source": [
        "column = 'A11'\n",
        "stat, p = ttest_ind(pos[column]\n",
        "                   ,neg[column]\n",
        "                   ,nan_policy='omit'\n",
        "                   )\n",
        "print(stat, p)\n",
        "\n",
        "# They are indeed not the same.\n",
        "# P value is the furthest from one of all six.\n",
        "# 11+ standard deviations awaay."
      ],
      "execution_count": 235,
      "outputs": [
        {
          "output_type": "stream",
          "text": [
            "11.667004222431277 7.957718568079967e-29\n"
          ],
          "name": "stdout"
        }
      ]
    },
    {
      "cell_type": "markdown",
      "metadata": {
        "id": "hLv3BiL4uUnM",
        "colab_type": "text"
      },
      "source": [
        "### Select one feature that is notably less different"
      ]
    },
    {
      "cell_type": "code",
      "metadata": {
        "id": "JBa2sEZbmLHI",
        "colab_type": "code",
        "colab": {
          "base_uri": "https://localhost:8080/",
          "height": 35
        },
        "outputId": "fc296069-41dd-4999-8614-bced541d9309"
      },
      "source": [
        "column = 'A14'\n",
        "stat, p = ttest_ind(pos[column]\n",
        "                   ,neg[column]\n",
        "                   ,nan_policy='omit'\n",
        "                   )\n",
        "print(stat, p)\n",
        "\n",
        "# They are indeed not the same.\n",
        "# P value is the closest to one of all six.\n",
        "# Only about 2-3 standard deviations away."
      ],
      "execution_count": 236,
      "outputs": [
        {
          "output_type": "stream",
          "text": [
            "-2.6358251986645476 0.008586135473979569\n"
          ],
          "name": "stdout"
        }
      ]
    },
    {
      "cell_type": "markdown",
      "metadata": {
        "id": "FlI5ea34uBo9",
        "colab_type": "text"
      },
      "source": [
        "## There are 9 categorical features. Create \"cross tabs\" between them\n",
        "Apply the Chi-squared test to them."
      ]
    },
    {
      "cell_type": "code",
      "metadata": {
        "id": "MBX9Qx9dc5oF",
        "colab_type": "code",
        "colab": {}
      },
      "source": [
        "from scipy.stats import chi2_contingency as chi2c\n",
        "\n",
        "\n",
        "# Categorical\n",
        "# A1:\tb, a\n",
        "# A4:\tu, y, l, t                                           (t does not appear)\n",
        "# A5:\tg, p, gg\n",
        "# A6:\tc, d, cc, i, j, k, m, r, q, w, x, e, aa, ff\n",
        "# A7:\tv, h, bb, j, n, z, dd, ff, o\n",
        "# A9:\tt, f\n",
        "# A10:\tt, f\n",
        "# A12:\tt, f\n",
        "# A13:\tg, p, s"
      ],
      "execution_count": 0,
      "outputs": []
    },
    {
      "cell_type": "markdown",
      "metadata": {
        "id": "hfOROOQTuoy4",
        "colab_type": "text"
      },
      "source": [
        "### Chi-squared test returns an extreme result"
      ]
    },
    {
      "cell_type": "code",
      "metadata": {
        "id": "uuvZjLaFc6oL",
        "colab_type": "code",
        "colab": {
          "base_uri": "https://localhost:8080/",
          "height": 146
        },
        "outputId": "00b473f3-f5af-4bff-c7f3-588e4c840e01"
      },
      "source": [
        "chi2, p, dof, expected = chi2c(pd.crosstab(df['A16']\n",
        "                                          ,df['A9']\n",
        "                                          )\n",
        "                              )\n",
        "\n",
        "print('Chi^2: '                 ,chi2, '\\n'\n",
        "     ,'P Value\" '               ,p, '\\n'\n",
        "     ,'Degrees of Freedom: '    ,dof, '\\n'\n",
        "     ,'Expected Values: ', '\\n' ,expected, '\\n'\n",
        "     )"
      ],
      "execution_count": 239,
      "outputs": [
        {
          "output_type": "stream",
          "text": [
            "Chi^2:  355.2038167412799 \n",
            " P Value\"  3.1185900878457007e-79 \n",
            " Degrees of Freedom:  1 \n",
            " Expected Values:  \n",
            " [[182.61884058 200.38115942]\n",
            " [146.38115942 160.61884058]] \n",
            "\n"
          ],
          "name": "stdout"
        }
      ]
    },
    {
      "cell_type": "markdown",
      "metadata": {
        "id": "WN5oV28buqmE",
        "colab_type": "text"
      },
      "source": [
        "### Less extreme"
      ]
    },
    {
      "cell_type": "code",
      "metadata": {
        "id": "vpbRgbqDpBrZ",
        "colab_type": "code",
        "colab": {
          "base_uri": "https://localhost:8080/",
          "height": 146
        },
        "outputId": "23fa23c5-f58f-4b3c-a04f-212420e087eb"
      },
      "source": [
        "chi2, p, dof, expected = chi2c(pd.crosstab(df['A16']\n",
        "                                          ,df['A1']\n",
        "                                          )\n",
        "                              )\n",
        "\n",
        "print('Chi^2: '                 ,chi2      ,'\\n'\n",
        "     ,'P Value: '               ,p         ,'\\n'\n",
        "     ,'Degrees of Freedom: '    ,dof       ,'\\n'\n",
        "     ,'Expected Values: '\n",
        "     ,'\\n'                      ,expected  ,'\\n'\n",
        "     )\n",
        "\n",
        "# Not sure how much less extreme you want, so I'll note:\n",
        "# A13's p value is 0.010094291370456372"
      ],
      "execution_count": 240,
      "outputs": [
        {
          "output_type": "stream",
          "text": [
            "Chi^2:  0.3112832649161994 \n",
            " P Value:  0.5768937883001118 \n",
            " Degrees of Freedom:  1 \n",
            " Expected Values:  \n",
            " [[115.84070796 258.15929204]\n",
            " [ 94.15929204 209.84070796]] \n",
            "\n"
          ],
          "name": "stdout"
        }
      ]
    },
    {
      "cell_type": "markdown",
      "metadata": {
        "id": "ZM8JckA2bgnp",
        "colab_type": "text"
      },
      "source": [
        "## Part 3 - Analysis and Interpretation\n",
        "\n",
        "Now that you've looked at the data, answer the following questions:\n",
        "\n",
        "- Interpret and explain the two t-tests you ran - what do they tell you about the relationships between the continuous features you selected and the class labels?\n",
        "- Interpret and explain the two Chi-squared tests you ran - what do they tell you about the relationships between the categorical features you selected and the class labels?\n",
        "- What was the most challenging part of this sprint challenge?\n",
        "\n",
        "Answer with text, but feel free to intersperse example code/results or refer to it from earlier."
      ]
    },
    {
      "cell_type": "markdown",
      "metadata": {
        "id": "vf5LiwUf1OaG",
        "colab_type": "text"
      },
      "source": [
        "### T-Testing:\n",
        "\n",
        "My best guess right now with the extreme t-test on A11 is that these variables are a strong deciding factor in wether your credit score is positive or nagative. The t-test doesn't show much but if you look at the code from earlier it shows that most of the negatives had small values, with the median around 0 and a sum of only 242, compared with the positive's values of about a 3 median and a sum of 1414, there's simply more of whatever they have in there. Since these are all numbers, my guess is savings or a similar account. For all I know one of these is stocks and bonds.\n",
        "\n",
        "For the less extreme t-test we have some difference still, but it's more on the limit for standard deviation. The sums of both are actually relatively close, and the rest of the variables show this. If I had to guess, I'd say this is spending habits; From what I'm told, people that have little debt have made habits that allow them to spend less in general. Sure a part of all of these is still luck of the draw but being able to control your own habits is a good first step on the way. Then again, this could be total debt and the positives could simply be getting more money and paying off a bigger chunk, while leaving this ~4k debt lingering in their account purely to bump their credit score. This is the problem with guessing at data you don't understand."
      ]
    },
    {
      "cell_type": "markdown",
      "metadata": {
        "id": "2TGUkBHA1I65",
        "colab_type": "text"
      },
      "source": [
        "###Chi^2 Testing:\n",
        "\n",
        "I'm not certain I even got all the data you need to test me on this, but at this point I think I've done all I can to get the answers outside of additional stretch goals. Well, aside from visualizations anyway.\n",
        "\n",
        "Most of the p values were low, though a few of them were extreme and a couple were marginal. None of them were actually next to one though, which makes sense given this is meant to determine something about your credit score; if we saw any approaching one, then why is it in the data in the first place? I suppose A1 is the closest example of that though as it was nearly 0.6, meaning it's use in determining credit score has - or at least appears to have - a lower significance than the other variables. I think this might be one of those 'niceities' that credit companies would like to have from you. It may not be that important, but it has a slight effect. Existance of emergency account funds maybe?\n",
        "\n",
        "On the other hand I think this also got by far the lowest p value of all the testing with A9. I only just now realized that the reason it's T or F is to say True or False. I'll fix that if I have time. Regardless, it seems having this thing or not is of extreme importance."
      ]
    },
    {
      "cell_type": "markdown",
      "metadata": {
        "id": "qhmcEOZi1T9w",
        "colab_type": "text"
      },
      "source": [
        "### Most challenging part:\n",
        "\n",
        "Probably still understanding how to get t-test and Chi^2 to work for me, but additionally getting the data to make any kind of sense without headers was a really big issue for me. I still don't really know if I'm sure what's going on with this, but at the same time I think it could be an example of how one needs to handle data regardless.\n",
        "\n",
        "For example, what if we had a look at what these columns were after the fact. Would I change my mind on how all this is working? What if instead of credit you'd just replaced the text document personally and made it say positive HIV tests? Kitten adoption rates? It may be that relying on what the headers and the data says makes too large an impact when I should be able to just look at the data and know with relative certainty that *something* is having an effect and what effect that is."
      ]
    }
  ]
}